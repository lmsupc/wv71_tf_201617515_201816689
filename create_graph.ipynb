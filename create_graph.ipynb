{
  "nbformat": 4,
  "nbformat_minor": 0,
  "metadata": {
    "colab": {
      "name": "Copia de create_graph.ipynb",
      "provenance": [],
      "collapsed_sections": []
    },
    "kernelspec": {
      "name": "python3",
      "display_name": "Python 3"
    },
    "language_info": {
      "name": "python"
    }
  },
  "cells": [
    {
      "cell_type": "markdown",
      "metadata": {
        "id": "15t179rr-uiI"
      },
      "source": [
        "#Hito 1 TF"
      ]
    },
    {
      "cell_type": "markdown",
      "metadata": {
        "id": "75C6jRQnB7xW"
      },
      "source": [
        "##Función para graficar el grafo"
      ]
    },
    {
      "cell_type": "code",
      "metadata": {
        "id": "sYeOyjBB-S78"
      },
      "source": [
        "import graphviz as gv\n",
        "import numpy as np\n",
        "import pandas as pd\n",
        "\n",
        "def adjlShow(L, lenn, LAmacen, LPuntosEntrega, labels=None, directed=False, weighted=False, layout=\"neato\"):\n",
        "  g = gv.Digraph(\"G\") if directed else gv.Graph(\"G\")\n",
        "  g.graph_attr[\"layout\"] = layout\n",
        "  g.node_attr[\"style\"] = \"filled\"\n",
        "  n = len(L)\n",
        "  for u in range(n):\n",
        "    colors =\"green\"\n",
        "    for almacen in LAmacen:\n",
        "      if u == almacen[0]+almacen[1]*lenn:\n",
        "        colors =\"red\"\n",
        "    for pEntrega in LPuntosEntrega:\n",
        "      if u == pEntrega[0]+pEntrega[1]*lenn:\n",
        "        colors =\"blue\"\n",
        "    g.node(str(u), labels[u] if labels else str(u), color = colors)\n",
        "  added = set()\n",
        "  if weighted:\n",
        "    for u in range(n):\n",
        "      for v, w in L[u]:\n",
        "        if not directed and not f\"{u},{v}\" in added:\n",
        "          added.add(f\"{u},{v}\")\n",
        "          added.add(f\"{v},{u}\")\n",
        "          g.edge(str(u), str(v), str(w))\n",
        "        elif directed:\n",
        "          g.edge(str(u), str(v), str(w))\n",
        "  else:\n",
        "    for u in range(n):\n",
        "      for v in L[u]:\n",
        "        if not directed and not f\"{u},{v}\" in added:\n",
        "          added.add(f\"{u},{v}\")\n",
        "          added.add(f\"{v},{u}\")\n",
        "          g.edge(str(u), str(v))\n",
        "        elif directed:\n",
        "          g.edge(str(u), str(v))\n",
        "  return g"
      ],
      "execution_count": null,
      "outputs": []
    },
    {
      "cell_type": "markdown",
      "metadata": {
        "id": "BPPet8ZA_eB3"
      },
      "source": [
        "##Función para crear la lista de adyacencia\n"
      ]
    },
    {
      "cell_type": "code",
      "metadata": {
        "id": "nWwLoBbH_m36"
      },
      "source": [
        "def createAdjacencyList(cuadras):\n",
        "  lenn = cuadras+1\n",
        "  L = [[] for _ in range(lenn**2)]\n",
        "  for x in range(0,lenn):\n",
        "    for y in range(0,lenn):\n",
        "      if x == 0:\n",
        "        if y == 0:\n",
        "          nodo = x + y*lenn\n",
        "          L[nodo].append(1)\n",
        "          L[nodo].append(lenn)\n",
        "        elif y == lenn-1:\n",
        "          nodo = x + y*lenn\n",
        "          L[nodo].append(nodo - lenn)\n",
        "          L[nodo].append(nodo + 1)\n",
        "        else:\n",
        "          nodo = x + y*lenn\n",
        "          L[nodo].append(nodo - lenn)\n",
        "          L[nodo].append(nodo + 1)\n",
        "          L[nodo].append(nodo + lenn)\n",
        "      if y == 0:\n",
        "        if x == lenn - 1:\n",
        "          nodo = x + y*lenn\n",
        "          L[nodo].append(nodo - 1)\n",
        "          L[nodo].append(nodo + lenn)\n",
        "        elif x!=0 and x < lenn - 1:\n",
        "          nodo = x + y*lenn\n",
        "          L[nodo].append(nodo - 1)\n",
        "          L[nodo].append(nodo + 1)\n",
        "          L[nodo].append(nodo + lenn)\n",
        "      if y == lenn - 1:\n",
        "        if x != 0 and x < lenn - 1:\n",
        "          nodo = x + y*lenn\n",
        "          L[nodo].append(nodo - lenn)\n",
        "          L[nodo].append(nodo - 1)\n",
        "          L[nodo].append(nodo + 1)\n",
        "        elif x == lenn - 1:\n",
        "          nodo = x + y*lenn\n",
        "          L[nodo].append(nodo - lenn)\n",
        "          L[nodo].append(nodo - 1)\n",
        "      \n",
        "      if x == lenn - 1:\n",
        "        if y != 0 and y < lenn - 1:\n",
        "          nodo = x + y*lenn\n",
        "          L[nodo].append(nodo - lenn)\n",
        "          L[nodo].append(nodo - 1)\n",
        "          L[nodo].append(nodo + lenn)\n",
        "\n",
        "      if x > 0 and y > 0 and x < lenn - 1 and y < lenn - 1:\n",
        "        nodo = x + y*lenn\n",
        "        L[nodo].append(nodo - lenn)\n",
        "        L[nodo].append(nodo - 1)\n",
        "        L[nodo].append(nodo + 1)\n",
        "        L[nodo].append(nodo + lenn)\n",
        "  return L"
      ],
      "execution_count": null,
      "outputs": []
    },
    {
      "cell_type": "markdown",
      "metadata": {
        "id": "Ns6-CyOyEK7O"
      },
      "source": [
        "##Función para leer los archivos .csv"
      ]
    },
    {
      "cell_type": "code",
      "metadata": {
        "colab": {
          "base_uri": "https://localhost:8080/"
        },
        "id": "g3cVmSICF6SI",
        "outputId": "4cb3aecc-9539-49f7-c449-4acaf78ba1ec"
      },
      "source": [
        "import csv\n",
        "\n",
        "!wget https://raw.githubusercontent.com/lmsupc/wv71_tf_201617515_201816689/main/datasets/almacenes.csv -P datasets/\n",
        "\n",
        "def loadFile(fileName):\n",
        "  data = []\n",
        "  with open(fileName, newline='') as File:  \n",
        "      reader = csv.reader(File)\n",
        "      for row in reader:\n",
        "          rowInfo = []\n",
        "          for num in row:\n",
        "            rowInfo.append(int(num))\n",
        "          data.append(rowInfo)\n",
        "      return data\n",
        "almacenes = loadFile('datasets/almacenes.csv')\n",
        "print(almacenes)"
      ],
      "execution_count": 2,
      "outputs": [
        {
          "output_type": "stream",
          "name": "stdout",
          "text": [
            "--2021-10-27 10:56:42--  https://raw.githubusercontent.com/lmsupc/wv71_tf_201617515_201816689/main/datasets/almacenes.csv\n",
            "Resolving raw.githubusercontent.com (raw.githubusercontent.com)... 185.199.109.133, 185.199.111.133, 185.199.108.133, ...\n",
            "Connecting to raw.githubusercontent.com (raw.githubusercontent.com)|185.199.109.133|:443... connected.\n",
            "HTTP request sent, awaiting response... 200 OK\n",
            "Length: 512 [text/plain]\n",
            "Saving to: ‘datasets/almacenes.csv.1’\n",
            "\n",
            "\ralmacenes.csv.1       0%[                    ]       0  --.-KB/s               \ralmacenes.csv.1     100%[===================>]     512  --.-KB/s    in 0s      \n",
            "\n",
            "2021-10-27 10:56:42 (28.5 MB/s) - ‘datasets/almacenes.csv.1’ saved [512/512]\n",
            "\n",
            "[[0, 41], [0, 50], [0, 58], [0, 66], [0, 80], [0, 81], [1, 3], [1, 11], [1, 28], [1, 57], [1, 67], [1, 72], [1, 89], [2, 13], [2, 17], [2, 26], [2, 30], [2, 32], [2, 33], [2, 46], [2, 66], [2, 77], [2, 79], [3, 2], [3, 9], [3, 23], [3, 24], [3, 32], [3, 39], [3, 48], [3, 71], [3, 79], [3, 87], [4, 17], [4, 44], [4, 47], [4, 57], [4, 62], [4, 65], [4, 66], [5, 5], [5, 12], [5, 14], [5, 32], [5, 37], [5, 55], [5, 66], [5, 69], [6, 4], [6, 22], [6, 30], [6, 36], [6, 53], [6, 58], [6, 59], [6, 74], [6, 84], [7, 1], [7, 22], [7, 33], [7, 52], [7, 59], [7, 79], [8, 46], [8, 47], [8, 54], [8, 73], [9, 6], [9, 10], [9, 19], [9, 40], [9, 43], [9, 45], [9, 49], [9, 54], [9, 70], [9, 74], [9, 87], [10, 18], [10, 29], [10, 30], [10, 36], [10, 79], [10, 80], [11, 0], [11, 22], [11, 25], [11, 30], [11, 37], [11, 48], [11, 50], [11, 59], [11, 62], [11, 70], [11, 79], [11, 83], [12, 0], [12, 9], [12, 24], [12, 31]]\n"
          ]
        }
      ]
    }
  ]
}