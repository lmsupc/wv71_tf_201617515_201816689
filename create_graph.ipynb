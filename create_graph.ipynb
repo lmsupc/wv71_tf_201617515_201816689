{
  "nbformat": 4,
  "nbformat_minor": 0,
  "metadata": {
    "colab": {
      "name": "Copia de create_graph.ipynb",
      "provenance": [],
      "collapsed_sections": []
    },
    "kernelspec": {
      "name": "python3",
      "display_name": "Python 3"
    },
    "language_info": {
      "name": "python"
    }
  },
  "cells": [
    {
      "cell_type": "markdown",
      "metadata": {
        "id": "15t179rr-uiI"
      },
      "source": [
        "#Hito 1 TF"
      ]
    },
    {
      "cell_type": "markdown",
      "metadata": {
        "id": "75C6jRQnB7xW"
      },
      "source": [
        "##Función para graficar el grafo"
      ]
    },
    {
      "cell_type": "code",
      "metadata": {
        "id": "sYeOyjBB-S78"
      },
      "source": [
        "import graphviz as gv\n",
        "import numpy as np\n",
        "import pandas as pd\n",
        "\n",
        "def adjlShow(L, lenn, LAmacen, LPuntosEntrega, labels=None, directed=False, weighted=False, layout=\"neato\"):\n",
        "  g = gv.Digraph(\"G\") if directed else gv.Graph(\"G\")\n",
        "  g.graph_attr[\"layout\"] = layout\n",
        "  g.node_attr[\"style\"] = \"filled\"\n",
        "  n = len(L)\n",
        "  for u in range(n):\n",
        "    colors =\"green\"\n",
        "    for almacen in LAmacen:\n",
        "      if u == almacen[0]+almacen[1]*lenn:\n",
        "        colors =\"red\"\n",
        "    for pEntrega in LPuntosEntrega:\n",
        "      if u == pEntrega[0]+pEntrega[1]*lenn:\n",
        "        colors =\"blue\"\n",
        "    g.node(str(u), labels[u] if labels else str(u), color = colors)\n",
        "  added = set()\n",
        "  if weighted:\n",
        "    for u in range(n):\n",
        "      for v, w in L[u]:\n",
        "        if not directed and not f\"{u},{v}\" in added:\n",
        "          added.add(f\"{u},{v}\")\n",
        "          added.add(f\"{v},{u}\")\n",
        "          g.edge(str(u), str(v), str(w))\n",
        "        elif directed:\n",
        "          g.edge(str(u), str(v), str(w))\n",
        "  else:\n",
        "    for u in range(n):\n",
        "      for v in L[u]:\n",
        "        if not directed and not f\"{u},{v}\" in added:\n",
        "          added.add(f\"{u},{v}\")\n",
        "          added.add(f\"{v},{u}\")\n",
        "          g.edge(str(u), str(v))\n",
        "        elif directed:\n",
        "          g.edge(str(u), str(v))\n",
        "  return g"
      ],
      "execution_count": 1,
      "outputs": []
    },
    {
      "cell_type": "markdown",
      "metadata": {
        "id": "BPPet8ZA_eB3"
      },
      "source": [
        "##Función para crear la lista de adyacencia\n"
      ]
    },
    {
      "cell_type": "code",
      "metadata": {
        "id": "nWwLoBbH_m36"
      },
      "source": [
        "def createAdjacencyList(cuadras):\n",
        "  lenn = cuadras+1\n",
        "  L = [[] for _ in range(lenn**2)]\n",
        "  for x in range(0,lenn):\n",
        "    for y in range(0,lenn):\n",
        "      if x == 0:\n",
        "        if y == 0:\n",
        "          nodo = x + y*lenn\n",
        "          L[nodo].append(1)\n",
        "          L[nodo].append(lenn)\n",
        "        elif y == lenn-1:\n",
        "          nodo = x + y*lenn\n",
        "          L[nodo].append(nodo - lenn)\n",
        "          L[nodo].append(nodo + 1)\n",
        "        else:\n",
        "          nodo = x + y*lenn\n",
        "          L[nodo].append(nodo - lenn)\n",
        "          L[nodo].append(nodo + 1)\n",
        "          L[nodo].append(nodo + lenn)\n",
        "      if y == 0:\n",
        "        if x == lenn - 1:\n",
        "          nodo = x + y*lenn\n",
        "          L[nodo].append(nodo - 1)\n",
        "          L[nodo].append(nodo + lenn)\n",
        "        elif x!=0 and x < lenn - 1:\n",
        "          nodo = x + y*lenn\n",
        "          L[nodo].append(nodo - 1)\n",
        "          L[nodo].append(nodo + 1)\n",
        "          L[nodo].append(nodo + lenn)\n",
        "      if y == lenn - 1:\n",
        "        if x != 0 and x < lenn - 1:\n",
        "          nodo = x + y*lenn\n",
        "          L[nodo].append(nodo - lenn)\n",
        "          L[nodo].append(nodo - 1)\n",
        "          L[nodo].append(nodo + 1)\n",
        "        elif x == lenn - 1:\n",
        "          nodo = x + y*lenn\n",
        "          L[nodo].append(nodo - lenn)\n",
        "          L[nodo].append(nodo - 1)\n",
        "      \n",
        "      if x == lenn - 1:\n",
        "        if y != 0 and y < lenn - 1:\n",
        "          nodo = x + y*lenn\n",
        "          L[nodo].append(nodo - lenn)\n",
        "          L[nodo].append(nodo - 1)\n",
        "          L[nodo].append(nodo + lenn)\n",
        "\n",
        "      if x > 0 and y > 0 and x < lenn - 1 and y < lenn - 1:\n",
        "        nodo = x + y*lenn\n",
        "        L[nodo].append(nodo - lenn)\n",
        "        L[nodo].append(nodo - 1)\n",
        "        L[nodo].append(nodo + 1)\n",
        "        L[nodo].append(nodo + lenn)\n",
        "  return L"
      ],
      "execution_count": 2,
      "outputs": []
    }
  ]
}