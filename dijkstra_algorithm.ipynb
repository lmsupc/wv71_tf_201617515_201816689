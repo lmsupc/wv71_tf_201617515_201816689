{
  "nbformat": 4,
  "nbformat_minor": 0,
  "metadata": {
    "colab": {
      "name": "dijkstra_algorithm.ipynb",
      "provenance": []
    },
    "kernelspec": {
      "name": "python3",
      "display_name": "Python 3"
    },
    "language_info": {
      "name": "python"
    }
  },
  "cells": [
    {
      "cell_type": "markdown",
      "metadata": {
        "id": "zl3dCGpLA89D"
      },
      "source": [
        "#Algoritmo Dijkstra\n",
        "Para la solución del problema de enrutamiento de vehículos, se utilizará el algoritmo Dijkstra para encontrar el camino más corto desde un almacén hasta un punto de entrega. Los pasos a considerar son los siguientes:\n",
        "\n",
        "1. Se deberá considerar a todos los puntos de entrega como nodos. Solo se deberá considerar un almacén como nodo y al resto no. Las demás intersecciones en la ciudad también serán consideradas nodos.\n",
        "2. Establecer las aristas que unirán a los nodos. El peso de todas las aristas serán iguales.\n",
        "3. El almacén seleccionado en el punto anterior será el nodo inicial.\n",
        "4. Usando el algoritmo Dijkstra se encontrará el camino más corto partiendo desde el almacén hacia los demás puntos de entrega.\n",
        "5. Se repetirá el mismo proceso varias veces con los otros almacenes como nodo incial.\n",
        "6. Finalmente, comparando los caminos encontrados desde diferentes almacenes hacia un mismo punto de entrega, se escogerá solo al almacén que se ubique más cerca y se descartará a los demás almacenes."
      ]
    }
  ]
}