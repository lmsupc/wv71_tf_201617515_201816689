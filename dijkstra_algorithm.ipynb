{
  "nbformat": 4,
  "nbformat_minor": 0,
  "metadata": {
    "colab": {
      "name": "dijkstra_algorithm.ipynb",
      "provenance": []
    },
    "kernelspec": {
      "name": "python3",
      "display_name": "Python 3"
    },
    "language_info": {
      "name": "python"
    }
  },
  "cells": [
    {
      "cell_type": "markdown",
      "metadata": {
        "id": "zl3dCGpLA89D"
      },
      "source": [
        "#Algoritmo Dijkstra\n",
        "Para la solución del problema de enrutamiento de vehículos, se utilizará el algoritmo Dijkstra para encontrar el camino más corto desde un almacén hasta un punto de entrega.\n",
        "En primer lugar, se deberá analizar cuales son los puntos de entrega más cercano a un almacén en particular, para ello se considerará cada intersección como un nodo, sin incluir los otros almacenes. En segundo lugar, empleando el algoritmo Dijkstra se encontrará el camino más corto desde un almacén hacia los puntos de entrega. En tercer lugar, se analizará por cada punto de entrega los recorridos realizados por los vehículos desde los almacenes hacia ese lugar, de modo que finalmente solo se tome en consideración al almacén más cercano y no a los más alejados."
      ]
    },
    {
      "cell_type": "markdown",
      "metadata": {
        "id": "53Z5BPyeDLR2"
      },
      "source": [
        ""
      ]
    }
  ]
}