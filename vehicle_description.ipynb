{
  "nbformat": 4,
  "nbformat_minor": 0,
  "metadata": {
    "colab": {
      "name": "vehicle_description.ipynb",
      "provenance": []
    },
    "kernelspec": {
      "name": "python3",
      "display_name": "Python 3"
    },
    "language_info": {
      "name": "python"
    }
  },
  "cells": [
    {
      "cell_type": "markdown",
      "metadata": {
        "id": "d3frh5DFxjVm"
      },
      "source": [
        "#DESCRIPCIÓN DE VEHÍCULOS DE ENTREGA"
      ]
    },
    {
      "cell_type": "markdown",
      "metadata": {
        "id": "DFyXz-qyxzpQ"
      },
      "source": [
        "##COMBUSTIBLE\n",
        "Los vehículos podrán utilizar uno de los dos tipos de combustible especificados:\n",
        "* Petróleo **(camiones grandes)**\n",
        "  * Costo por galón S/15.49\n",
        "* Gas natural vehicular **(camiones pequeños)**\n",
        "  * Costo por metro cúbico S/1.45\n",
        "\n",
        "Para camiones grandes se está considerando un galón de petróleo para un recorrido de 35 km y para los camiones pequeños 6L de gas natural vehicular para recorridos de 80 km."
      ]
    },
    {
      "cell_type": "markdown",
      "metadata": {
        "id": "Z-m7VmX6x0PW"
      },
      "source": [
        "##VELOCIDAD\n",
        "Dado que los vehículos transitarán en zonas urbanas, la velocidad máxima a considerar es 50 km/h"
      ]
    },
    {
      "cell_type": "markdown",
      "metadata": {
        "id": "FKnKvqbyx2Zo"
      },
      "source": [
        "##FUENTE:\n",
        "https://www.facilito.gob.pe/facilito/pages/facilito/menuPrecios.jsp\n",
        "\n",
        "https://www.gob.pe/institucion/mtc/noticias/507197-mtc-modifica-los-limites-maximos-de-velocidad-en-zonas-urbanas"
      ]
    }
  ]
}